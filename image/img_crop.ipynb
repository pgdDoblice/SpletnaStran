{
 "nbformat": 4,
 "nbformat_minor": 2,
 "metadata": {
  "language_info": {
   "name": "python",
   "codemirror_mode": {
    "name": "ipython",
    "version": 3
   },
   "version": "3.7.1-final"
  },
  "orig_nbformat": 2,
  "file_extension": ".py",
  "mimetype": "text/x-python",
  "name": "python",
  "npconvert_exporter": "python",
  "pygments_lexer": "ipython3",
  "version": 3,
  "kernelspec": {
   "name": "19540da2-3f01-47c9-8287-798cb9981c72",
   "display_name": "'Python Interactive'"
  }
 },
 "cells": [
  {
   "cell_type": "code",
   "execution_count": 1,
   "metadata": {},
   "outputs": [],
   "source": [
    "from PIL import Image\n",
    "import os, os.path\n",
    ""
   ]
  },
  {
   "cell_type": "code",
   "execution_count": 9,
   "metadata": {},
   "outputs": [],
   "source": [
    "for i in range (3):\n",
    "    i = i+11\n",
    "    DIR = 'delavnica'+str(i)\n",
    "    DIR_pic = DIR+'/'\n",
    "    num_pic = len([name for name in os.listdir(DIR) if os.path.isfile(os.path.join(DIR, name))])\n",
    "    os.mkdir(DIR_pic+'cropped')\n",
    "    for i in range(num_pic):\n",
    "        i = i+1\n",
    "        img = Image.open(DIR_pic+str(i)+\".png\")\n",
    "        width, height = img.size   # Get dimensions\n",
    "        \n",
    "        left = abs(width - width*0.5)/2\n",
    "        top = abs(height - width*0.5)/2\n",
    "        right = abs(width + width*0.5)/2\n",
    "        bottom = abs(height + width*0.5)/2\n",
    "\n",
    "        # Crop the center of the image\n",
    "        img = img.crop((left, top, right, bottom))\n",
    "        img = img.save(DIR_pic+\"cropped/\"+str(i)+\"_cropped.png\")"
   ]
  },
  {
   "cell_type": "code",
   "execution_count": null,
   "metadata": {},
   "outputs": [],
   "source": []
  }
 ]
}